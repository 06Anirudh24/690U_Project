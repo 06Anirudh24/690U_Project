{
  "nbformat": 4,
  "nbformat_minor": 0,
  "metadata": {
    "colab": {
      "provenance": [],
      "collapsed_sections": [
        "1jgsJo4zDtNl",
        "uB8sJuTCEsAJ",
        "A2zf7h_n04UJ",
        "xTCJSu2MNg1S",
        "NFr46Nh9C5d3"
      ]
    },
    "kernelspec": {
      "name": "python3",
      "display_name": "Python 3"
    },
    "language_info": {
      "name": "python"
    }
  },
  "cells": [
    {
      "cell_type": "markdown",
      "source": [
        "### Imports and Requirements"
      ],
      "metadata": {
        "id": "1jgsJo4zDtNl"
      }
    },
    {
      "cell_type": "code",
      "source": [
        "!git clone https://github.com/TattaBio/DGEB.git\n",
        "!sed -i '/gradio-client==1.0.2/d' DGEB/leaderboard/requirements.txt\n",
        "!pip install -r DGEB/leaderboard/requirements.txt\n",
        "!pip install -q fsspec huggingface_hub"
      ],
      "metadata": {
        "colab": {
          "base_uri": "https://localhost:8080/"
        },
        "id": "5GURKohQDwkM",
        "outputId": "30ec4cee-f1d7-4f8e-9de4-3c64380dd116"
      },
      "execution_count": 1,
      "outputs": [
        {
          "output_type": "stream",
          "name": "stdout",
          "text": [
            "fatal: destination path 'DGEB' already exists and is not an empty directory.\n",
            "Requirement already satisfied: aiofiles==23.2.1 in /usr/local/lib/python3.11/dist-packages (from -r DGEB/leaderboard/requirements.txt (line 1)) (23.2.1)\n",
            "Requirement already satisfied: aiohttp==3.10.2 in /usr/local/lib/python3.11/dist-packages (from -r DGEB/leaderboard/requirements.txt (line 2)) (3.10.2)\n",
            "Requirement already satisfied: aiosignal==1.3.1 in /usr/local/lib/python3.11/dist-packages (from -r DGEB/leaderboard/requirements.txt (line 3)) (1.3.1)\n",
            "Requirement already satisfied: altair==5.3.0 in /usr/local/lib/python3.11/dist-packages (from -r DGEB/leaderboard/requirements.txt (line 4)) (5.3.0)\n",
            "Requirement already satisfied: annotated-types==0.7.0 in /usr/local/lib/python3.11/dist-packages (from -r DGEB/leaderboard/requirements.txt (line 5)) (0.7.0)\n",
            "Requirement already satisfied: anyio==4.4.0 in /usr/local/lib/python3.11/dist-packages (from -r DGEB/leaderboard/requirements.txt (line 6)) (4.4.0)\n",
            "Requirement already satisfied: attrs==23.2.0 in /usr/local/lib/python3.11/dist-packages (from -r DGEB/leaderboard/requirements.txt (line 7)) (23.2.0)\n",
            "Requirement already satisfied: certifi==2024.7.4 in /usr/local/lib/python3.11/dist-packages (from -r DGEB/leaderboard/requirements.txt (line 8)) (2024.7.4)\n",
            "Requirement already satisfied: charset-normalizer==3.3.2 in /usr/local/lib/python3.11/dist-packages (from -r DGEB/leaderboard/requirements.txt (line 9)) (3.3.2)\n",
            "Requirement already satisfied: click==8.1.7 in /usr/local/lib/python3.11/dist-packages (from -r DGEB/leaderboard/requirements.txt (line 10)) (8.1.7)\n",
            "Requirement already satisfied: contourpy==1.2.1 in /usr/local/lib/python3.11/dist-packages (from -r DGEB/leaderboard/requirements.txt (line 11)) (1.2.1)\n",
            "Requirement already satisfied: cycler==0.12.1 in /usr/local/lib/python3.11/dist-packages (from -r DGEB/leaderboard/requirements.txt (line 12)) (0.12.1)\n",
            "Requirement already satisfied: datasets==2.14.4 in /usr/local/lib/python3.11/dist-packages (from -r DGEB/leaderboard/requirements.txt (line 13)) (2.14.4)\n",
            "Requirement already satisfied: dill==0.3.7 in /usr/local/lib/python3.11/dist-packages (from -r DGEB/leaderboard/requirements.txt (line 14)) (0.3.7)\n",
            "Requirement already satisfied: dnspython==2.6.1 in /usr/local/lib/python3.11/dist-packages (from -r DGEB/leaderboard/requirements.txt (line 15)) (2.6.1)\n",
            "Requirement already satisfied: email-validator==2.1.2 in /usr/local/lib/python3.11/dist-packages (from -r DGEB/leaderboard/requirements.txt (line 16)) (2.1.2)\n",
            "Requirement already satisfied: fastapi==0.111.0 in /usr/local/lib/python3.11/dist-packages (from -r DGEB/leaderboard/requirements.txt (line 17)) (0.111.0)\n",
            "Requirement already satisfied: fastapi-cli==0.0.4 in /usr/local/lib/python3.11/dist-packages (from -r DGEB/leaderboard/requirements.txt (line 18)) (0.0.4)\n",
            "Requirement already satisfied: ffmpy==0.3.2 in /usr/local/lib/python3.11/dist-packages (from -r DGEB/leaderboard/requirements.txt (line 19)) (0.3.2)\n",
            "Requirement already satisfied: filelock==3.15.1 in /usr/local/lib/python3.11/dist-packages (from -r DGEB/leaderboard/requirements.txt (line 20)) (3.15.1)\n",
            "Requirement already satisfied: fonttools==4.53.0 in /usr/local/lib/python3.11/dist-packages (from -r DGEB/leaderboard/requirements.txt (line 21)) (4.53.0)\n",
            "Requirement already satisfied: frozenlist==1.4.1 in /usr/local/lib/python3.11/dist-packages (from -r DGEB/leaderboard/requirements.txt (line 22)) (1.4.1)\n",
            "Requirement already satisfied: fsspec==2024.6.0 in /usr/local/lib/python3.11/dist-packages (from -r DGEB/leaderboard/requirements.txt (line 23)) (2024.6.0)\n",
            "Requirement already satisfied: gradio==4.44.0 in /usr/local/lib/python3.11/dist-packages (from -r DGEB/leaderboard/requirements.txt (line 24)) (4.44.0)\n",
            "Requirement already satisfied: h11==0.14.0 in /usr/local/lib/python3.11/dist-packages (from -r DGEB/leaderboard/requirements.txt (line 25)) (0.14.0)\n",
            "Requirement already satisfied: httpcore==1.0.5 in /usr/local/lib/python3.11/dist-packages (from -r DGEB/leaderboard/requirements.txt (line 26)) (1.0.5)\n",
            "Requirement already satisfied: httptools==0.6.1 in /usr/local/lib/python3.11/dist-packages (from -r DGEB/leaderboard/requirements.txt (line 27)) (0.6.1)\n",
            "Requirement already satisfied: httpx==0.27.0 in /usr/local/lib/python3.11/dist-packages (from -r DGEB/leaderboard/requirements.txt (line 28)) (0.27.0)\n",
            "Requirement already satisfied: huggingface-hub==0.23.4 in /usr/local/lib/python3.11/dist-packages (from -r DGEB/leaderboard/requirements.txt (line 29)) (0.23.4)\n",
            "Requirement already satisfied: idna==3.7 in /usr/local/lib/python3.11/dist-packages (from -r DGEB/leaderboard/requirements.txt (line 30)) (3.7)\n",
            "Requirement already satisfied: importlib-resources==6.4.0 in /usr/local/lib/python3.11/dist-packages (from -r DGEB/leaderboard/requirements.txt (line 31)) (6.4.0)\n",
            "Requirement already satisfied: jinja2==3.1.4 in /usr/local/lib/python3.11/dist-packages (from -r DGEB/leaderboard/requirements.txt (line 32)) (3.1.4)\n",
            "Requirement already satisfied: jsonschema==4.22.0 in /usr/local/lib/python3.11/dist-packages (from -r DGEB/leaderboard/requirements.txt (line 33)) (4.22.0)\n",
            "Requirement already satisfied: jsonschema-specifications==2023.12.1 in /usr/local/lib/python3.11/dist-packages (from -r DGEB/leaderboard/requirements.txt (line 34)) (2023.12.1)\n",
            "Requirement already satisfied: kiwisolver==1.4.5 in /usr/local/lib/python3.11/dist-packages (from -r DGEB/leaderboard/requirements.txt (line 35)) (1.4.5)\n",
            "Requirement already satisfied: markdown-it-py==3.0.0 in /usr/local/lib/python3.11/dist-packages (from -r DGEB/leaderboard/requirements.txt (line 36)) (3.0.0)\n",
            "Requirement already satisfied: markupsafe==2.1.5 in /usr/local/lib/python3.11/dist-packages (from -r DGEB/leaderboard/requirements.txt (line 37)) (2.1.5)\n",
            "Requirement already satisfied: matplotlib==3.9.0 in /usr/local/lib/python3.11/dist-packages (from -r DGEB/leaderboard/requirements.txt (line 38)) (3.9.0)\n",
            "Requirement already satisfied: mdurl==0.1.2 in /usr/local/lib/python3.11/dist-packages (from -r DGEB/leaderboard/requirements.txt (line 39)) (0.1.2)\n",
            "Requirement already satisfied: multidict==6.0.5 in /usr/local/lib/python3.11/dist-packages (from -r DGEB/leaderboard/requirements.txt (line 40)) (6.0.5)\n",
            "Requirement already satisfied: multiprocess==0.70.15 in /usr/local/lib/python3.11/dist-packages (from -r DGEB/leaderboard/requirements.txt (line 41)) (0.70.15)\n",
            "Requirement already satisfied: numpy==2.0.0 in /usr/local/lib/python3.11/dist-packages (from -r DGEB/leaderboard/requirements.txt (line 42)) (2.0.0)\n",
            "Requirement already satisfied: orjson==3.10.5 in /usr/local/lib/python3.11/dist-packages (from -r DGEB/leaderboard/requirements.txt (line 43)) (3.10.5)\n",
            "Requirement already satisfied: packaging==24.1 in /usr/local/lib/python3.11/dist-packages (from -r DGEB/leaderboard/requirements.txt (line 44)) (24.1)\n",
            "Requirement already satisfied: pandas==2.2.2 in /usr/local/lib/python3.11/dist-packages (from -r DGEB/leaderboard/requirements.txt (line 45)) (2.2.2)\n",
            "Requirement already satisfied: pillow==10.3.0 in /usr/local/lib/python3.11/dist-packages (from -r DGEB/leaderboard/requirements.txt (line 46)) (10.3.0)\n",
            "Requirement already satisfied: pyarrow==16.1.0 in /usr/local/lib/python3.11/dist-packages (from -r DGEB/leaderboard/requirements.txt (line 47)) (16.1.0)\n",
            "Requirement already satisfied: pydantic==2.7.4 in /usr/local/lib/python3.11/dist-packages (from -r DGEB/leaderboard/requirements.txt (line 48)) (2.7.4)\n",
            "Requirement already satisfied: pydantic-core==2.18.4 in /usr/local/lib/python3.11/dist-packages (from -r DGEB/leaderboard/requirements.txt (line 49)) (2.18.4)\n",
            "Requirement already satisfied: pydub==0.25.1 in /usr/local/lib/python3.11/dist-packages (from -r DGEB/leaderboard/requirements.txt (line 50)) (0.25.1)\n",
            "Requirement already satisfied: pygments==2.18.0 in /usr/local/lib/python3.11/dist-packages (from -r DGEB/leaderboard/requirements.txt (line 51)) (2.18.0)\n",
            "Requirement already satisfied: pyparsing==3.1.2 in /usr/local/lib/python3.11/dist-packages (from -r DGEB/leaderboard/requirements.txt (line 52)) (3.1.2)\n",
            "Requirement already satisfied: python-dateutil==2.9.0.post0 in /usr/local/lib/python3.11/dist-packages (from -r DGEB/leaderboard/requirements.txt (line 53)) (2.9.0.post0)\n",
            "Requirement already satisfied: python-dotenv==1.0.1 in /usr/local/lib/python3.11/dist-packages (from -r DGEB/leaderboard/requirements.txt (line 54)) (1.0.1)\n",
            "Requirement already satisfied: python-multipart==0.0.9 in /usr/local/lib/python3.11/dist-packages (from -r DGEB/leaderboard/requirements.txt (line 55)) (0.0.9)\n",
            "Requirement already satisfied: pytz==2024.1 in /usr/local/lib/python3.11/dist-packages (from -r DGEB/leaderboard/requirements.txt (line 56)) (2024.1)\n",
            "Requirement already satisfied: pyyaml==6.0.1 in /usr/local/lib/python3.11/dist-packages (from -r DGEB/leaderboard/requirements.txt (line 57)) (6.0.1)\n",
            "Requirement already satisfied: referencing==0.35.1 in /usr/local/lib/python3.11/dist-packages (from -r DGEB/leaderboard/requirements.txt (line 58)) (0.35.1)\n",
            "Requirement already satisfied: requests==2.32.3 in /usr/local/lib/python3.11/dist-packages (from -r DGEB/leaderboard/requirements.txt (line 59)) (2.32.3)\n",
            "Requirement already satisfied: rich==13.7.1 in /usr/local/lib/python3.11/dist-packages (from -r DGEB/leaderboard/requirements.txt (line 60)) (13.7.1)\n",
            "Requirement already satisfied: rpds-py==0.18.1 in /usr/local/lib/python3.11/dist-packages (from -r DGEB/leaderboard/requirements.txt (line 61)) (0.18.1)\n",
            "Requirement already satisfied: ruff==0.4.9 in /usr/local/lib/python3.11/dist-packages (from -r DGEB/leaderboard/requirements.txt (line 62)) (0.4.9)\n",
            "Requirement already satisfied: semantic-version==2.10.0 in /usr/local/lib/python3.11/dist-packages (from -r DGEB/leaderboard/requirements.txt (line 63)) (2.10.0)\n",
            "Requirement already satisfied: shellingham==1.5.4 in /usr/local/lib/python3.11/dist-packages (from -r DGEB/leaderboard/requirements.txt (line 64)) (1.5.4)\n",
            "Requirement already satisfied: six==1.16.0 in /usr/local/lib/python3.11/dist-packages (from -r DGEB/leaderboard/requirements.txt (line 65)) (1.16.0)\n",
            "Requirement already satisfied: sniffio==1.3.1 in /usr/local/lib/python3.11/dist-packages (from -r DGEB/leaderboard/requirements.txt (line 66)) (1.3.1)\n",
            "Requirement already satisfied: starlette==0.37.2 in /usr/local/lib/python3.11/dist-packages (from -r DGEB/leaderboard/requirements.txt (line 67)) (0.37.2)\n",
            "Requirement already satisfied: tomlkit==0.12.0 in /usr/local/lib/python3.11/dist-packages (from -r DGEB/leaderboard/requirements.txt (line 68)) (0.12.0)\n",
            "Requirement already satisfied: toolz==0.12.1 in /usr/local/lib/python3.11/dist-packages (from -r DGEB/leaderboard/requirements.txt (line 69)) (0.12.1)\n",
            "Requirement already satisfied: tqdm==4.66.4 in /usr/local/lib/python3.11/dist-packages (from -r DGEB/leaderboard/requirements.txt (line 70)) (4.66.4)\n",
            "Requirement already satisfied: typer==0.12.3 in /usr/local/lib/python3.11/dist-packages (from -r DGEB/leaderboard/requirements.txt (line 71)) (0.12.3)\n",
            "Requirement already satisfied: typing-extensions==4.12.2 in /usr/local/lib/python3.11/dist-packages (from -r DGEB/leaderboard/requirements.txt (line 72)) (4.12.2)\n",
            "Requirement already satisfied: tzdata==2024.1 in /usr/local/lib/python3.11/dist-packages (from -r DGEB/leaderboard/requirements.txt (line 73)) (2024.1)\n",
            "Requirement already satisfied: ujson==5.10.0 in /usr/local/lib/python3.11/dist-packages (from -r DGEB/leaderboard/requirements.txt (line 74)) (5.10.0)\n",
            "Requirement already satisfied: urllib3==2.2.2 in /usr/local/lib/python3.11/dist-packages (from -r DGEB/leaderboard/requirements.txt (line 75)) (2.2.2)\n",
            "Requirement already satisfied: uvicorn==0.30.1 in /usr/local/lib/python3.11/dist-packages (from -r DGEB/leaderboard/requirements.txt (line 76)) (0.30.1)\n",
            "Requirement already satisfied: uvloop==0.19.0 in /usr/local/lib/python3.11/dist-packages (from -r DGEB/leaderboard/requirements.txt (line 77)) (0.19.0)\n",
            "Requirement already satisfied: watchfiles==0.22.0 in /usr/local/lib/python3.11/dist-packages (from -r DGEB/leaderboard/requirements.txt (line 78)) (0.22.0)\n",
            "Requirement already satisfied: websockets==11.0.3 in /usr/local/lib/python3.11/dist-packages (from -r DGEB/leaderboard/requirements.txt (line 79)) (11.0.3)\n",
            "Requirement already satisfied: xxhash==3.4.1 in /usr/local/lib/python3.11/dist-packages (from -r DGEB/leaderboard/requirements.txt (line 80)) (3.4.1)\n",
            "Requirement already satisfied: yarl==1.9.4 in /usr/local/lib/python3.11/dist-packages (from -r DGEB/leaderboard/requirements.txt (line 81)) (1.9.4)\n",
            "Requirement already satisfied: aiohappyeyeballs>=2.3.0 in /usr/local/lib/python3.11/dist-packages (from aiohttp==3.10.2->-r DGEB/leaderboard/requirements.txt (line 2)) (2.6.1)\n",
            "Requirement already satisfied: gradio-client==1.3.0 in /usr/local/lib/python3.11/dist-packages (from gradio==4.44.0->-r DGEB/leaderboard/requirements.txt (line 24)) (1.3.0)\n"
          ]
        }
      ]
    },
    {
      "cell_type": "code",
      "source": [
        "from huggingface_hub import hf_hub_download\n",
        "import pandas as pd\n",
        "from xgboost import XGBClassifier\n",
        "from sklearn.preprocessing import OneHotEncoder\n",
        "from sklearn.ensemble import RandomForestClassifier\n",
        "from collections import Counter\n",
        "from sklearn.metrics import classification_report, accuracy_score\n",
        "import random\n",
        "from imblearn.over_sampling import SMOTE\n",
        "from sklearn.preprocessing import LabelEncoder\n",
        "from sklearn.metrics import f1_score\n",
        "import random, numpy as np\n",
        "from collections import Counter\n",
        "from itertools import product\n",
        "from sklearn.feature_extraction.text import CountVectorizer\n",
        "from sklearn.model_selection import StratifiedShuffleSplit\n",
        "from sklearn.utils.class_weight import compute_sample_weight\n",
        "from xgboost import XGBClassifier, callback"
      ],
      "metadata": {
        "id": "XB1UEu-IE9Nc"
      },
      "execution_count": 2,
      "outputs": []
    },
    {
      "cell_type": "markdown",
      "source": [
        "### Loading Dataset and Basic Data Exploration"
      ],
      "metadata": {
        "id": "uB8sJuTCEsAJ"
      }
    },
    {
      "cell_type": "code",
      "source": [
        "# Link to dataset: https://huggingface.co/datasets/tattabio/ec_classification_dna\n",
        "splits = {'train': 'data/train-00000-of-00001.parquet', 'test': 'data/test-00000-of-00001.parquet'}\n",
        "\n",
        "# Load train, test data\n",
        "df_train = pd.read_parquet(\"hf://datasets/tattabio/ec_classification_dna/\" + splits[\"train\"])\n",
        "df_test = pd.read_parquet(\"hf://datasets/tattabio/ec_classification_dna/\" + splits[\"test\"])\n",
        "\n",
        "orig_seqs   = df_train['Sequence'].tolist()\n",
        "orig_labels = df_train['Label'].tolist()"
      ],
      "metadata": {
        "id": "Eb7BVAgbFnmt",
        "colab": {
          "base_uri": "https://localhost:8080/"
        },
        "outputId": "2c096147-656b-43ea-c11d-73e8cb3cd8d8"
      },
      "execution_count": 3,
      "outputs": [
        {
          "output_type": "stream",
          "name": "stderr",
          "text": [
            "/usr/local/lib/python3.11/dist-packages/huggingface_hub/utils/_token.py:89: UserWarning: \n",
            "The secret `HF_TOKEN` does not exist in your Colab secrets.\n",
            "To authenticate with the Hugging Face Hub, create a token in your settings tab (https://huggingface.co/settings/tokens), set it as secret in your Google Colab and restart your session.\n",
            "You will be able to reuse this secret in all of your notebooks.\n",
            "Please note that authentication is recommended but still optional to access public models or datasets.\n",
            "  warnings.warn(\n"
          ]
        }
      ]
    },
    {
      "cell_type": "code",
      "source": [
        "# Truncate to some fixed length\n",
        "df_train['Sequence'] = df_train['Sequence'].apply(lambda x: x[:2000] if len(x) > 2000 else x)\n",
        "df_test['Sequence'] = df_test['Sequence'].apply(lambda x: x[:2000] if len(x) > 2000 else x)"
      ],
      "metadata": {
        "id": "26ydrUteBzfU"
      },
      "execution_count": 4,
      "outputs": []
    },
    {
      "cell_type": "code",
      "source": [
        "df_train.head()"
      ],
      "metadata": {
        "colab": {
          "base_uri": "https://localhost:8080/",
          "height": 206
        },
        "id": "Pni5sXdsGAS_",
        "outputId": "ed272ec3-3850-45f6-aa2e-0132e5d4edeb"
      },
      "execution_count": 5,
      "outputs": [
        {
          "output_type": "execute_result",
          "data": {
            "text/plain": [
              "    Entry       Label                                           Sequence\n",
              "0  Q9LQC0  1.14.14.18  ATGGCTACATCAAGACTTAATGCCTCTTGCCGCTTTCCTGCAAGCA...\n",
              "1  A0AFT8  1.14.14.18  ATGATTATTGTAACTAATACGATTAAGGTAGAAAAAGGCGCAGCAG...\n",
              "2  P74133  1.14.14.18  CTATTCACCTACCATTAGGGTGATGGGATGACCAGCGGTACTGCGA...\n",
              "3  O31534  1.14.14.18  TTATTGATTGTATGTCCCTTGTTTGACAGCACGTACATGGTACATG...\n",
              "4  P34697    1.15.1.1  ATGTTTATGAATCTTCTCACTCAGGTCTCCAACGCGATTTTTCCGC..."
            ],
            "text/html": [
              "\n",
              "  <div id=\"df-eeb9dc72-dafa-4c0a-b47a-6cfdf69bd48a\" class=\"colab-df-container\">\n",
              "    <div>\n",
              "<style scoped>\n",
              "    .dataframe tbody tr th:only-of-type {\n",
              "        vertical-align: middle;\n",
              "    }\n",
              "\n",
              "    .dataframe tbody tr th {\n",
              "        vertical-align: top;\n",
              "    }\n",
              "\n",
              "    .dataframe thead th {\n",
              "        text-align: right;\n",
              "    }\n",
              "</style>\n",
              "<table border=\"1\" class=\"dataframe\">\n",
              "  <thead>\n",
              "    <tr style=\"text-align: right;\">\n",
              "      <th></th>\n",
              "      <th>Entry</th>\n",
              "      <th>Label</th>\n",
              "      <th>Sequence</th>\n",
              "    </tr>\n",
              "  </thead>\n",
              "  <tbody>\n",
              "    <tr>\n",
              "      <th>0</th>\n",
              "      <td>Q9LQC0</td>\n",
              "      <td>1.14.14.18</td>\n",
              "      <td>ATGGCTACATCAAGACTTAATGCCTCTTGCCGCTTTCCTGCAAGCA...</td>\n",
              "    </tr>\n",
              "    <tr>\n",
              "      <th>1</th>\n",
              "      <td>A0AFT8</td>\n",
              "      <td>1.14.14.18</td>\n",
              "      <td>ATGATTATTGTAACTAATACGATTAAGGTAGAAAAAGGCGCAGCAG...</td>\n",
              "    </tr>\n",
              "    <tr>\n",
              "      <th>2</th>\n",
              "      <td>P74133</td>\n",
              "      <td>1.14.14.18</td>\n",
              "      <td>CTATTCACCTACCATTAGGGTGATGGGATGACCAGCGGTACTGCGA...</td>\n",
              "    </tr>\n",
              "    <tr>\n",
              "      <th>3</th>\n",
              "      <td>O31534</td>\n",
              "      <td>1.14.14.18</td>\n",
              "      <td>TTATTGATTGTATGTCCCTTGTTTGACAGCACGTACATGGTACATG...</td>\n",
              "    </tr>\n",
              "    <tr>\n",
              "      <th>4</th>\n",
              "      <td>P34697</td>\n",
              "      <td>1.15.1.1</td>\n",
              "      <td>ATGTTTATGAATCTTCTCACTCAGGTCTCCAACGCGATTTTTCCGC...</td>\n",
              "    </tr>\n",
              "  </tbody>\n",
              "</table>\n",
              "</div>\n",
              "    <div class=\"colab-df-buttons\">\n",
              "\n",
              "  <div class=\"colab-df-container\">\n",
              "    <button class=\"colab-df-convert\" onclick=\"convertToInteractive('df-eeb9dc72-dafa-4c0a-b47a-6cfdf69bd48a')\"\n",
              "            title=\"Convert this dataframe to an interactive table.\"\n",
              "            style=\"display:none;\">\n",
              "\n",
              "  <svg xmlns=\"http://www.w3.org/2000/svg\" height=\"24px\" viewBox=\"0 -960 960 960\">\n",
              "    <path d=\"M120-120v-720h720v720H120Zm60-500h600v-160H180v160Zm220 220h160v-160H400v160Zm0 220h160v-160H400v160ZM180-400h160v-160H180v160Zm440 0h160v-160H620v160ZM180-180h160v-160H180v160Zm440 0h160v-160H620v160Z\"/>\n",
              "  </svg>\n",
              "    </button>\n",
              "\n",
              "  <style>\n",
              "    .colab-df-container {\n",
              "      display:flex;\n",
              "      gap: 12px;\n",
              "    }\n",
              "\n",
              "    .colab-df-convert {\n",
              "      background-color: #E8F0FE;\n",
              "      border: none;\n",
              "      border-radius: 50%;\n",
              "      cursor: pointer;\n",
              "      display: none;\n",
              "      fill: #1967D2;\n",
              "      height: 32px;\n",
              "      padding: 0 0 0 0;\n",
              "      width: 32px;\n",
              "    }\n",
              "\n",
              "    .colab-df-convert:hover {\n",
              "      background-color: #E2EBFA;\n",
              "      box-shadow: 0px 1px 2px rgba(60, 64, 67, 0.3), 0px 1px 3px 1px rgba(60, 64, 67, 0.15);\n",
              "      fill: #174EA6;\n",
              "    }\n",
              "\n",
              "    .colab-df-buttons div {\n",
              "      margin-bottom: 4px;\n",
              "    }\n",
              "\n",
              "    [theme=dark] .colab-df-convert {\n",
              "      background-color: #3B4455;\n",
              "      fill: #D2E3FC;\n",
              "    }\n",
              "\n",
              "    [theme=dark] .colab-df-convert:hover {\n",
              "      background-color: #434B5C;\n",
              "      box-shadow: 0px 1px 3px 1px rgba(0, 0, 0, 0.15);\n",
              "      filter: drop-shadow(0px 1px 2px rgba(0, 0, 0, 0.3));\n",
              "      fill: #FFFFFF;\n",
              "    }\n",
              "  </style>\n",
              "\n",
              "    <script>\n",
              "      const buttonEl =\n",
              "        document.querySelector('#df-eeb9dc72-dafa-4c0a-b47a-6cfdf69bd48a button.colab-df-convert');\n",
              "      buttonEl.style.display =\n",
              "        google.colab.kernel.accessAllowed ? 'block' : 'none';\n",
              "\n",
              "      async function convertToInteractive(key) {\n",
              "        const element = document.querySelector('#df-eeb9dc72-dafa-4c0a-b47a-6cfdf69bd48a');\n",
              "        const dataTable =\n",
              "          await google.colab.kernel.invokeFunction('convertToInteractive',\n",
              "                                                    [key], {});\n",
              "        if (!dataTable) return;\n",
              "\n",
              "        const docLinkHtml = 'Like what you see? Visit the ' +\n",
              "          '<a target=\"_blank\" href=https://colab.research.google.com/notebooks/data_table.ipynb>data table notebook</a>'\n",
              "          + ' to learn more about interactive tables.';\n",
              "        element.innerHTML = '';\n",
              "        dataTable['output_type'] = 'display_data';\n",
              "        await google.colab.output.renderOutput(dataTable, element);\n",
              "        const docLink = document.createElement('div');\n",
              "        docLink.innerHTML = docLinkHtml;\n",
              "        element.appendChild(docLink);\n",
              "      }\n",
              "    </script>\n",
              "  </div>\n",
              "\n",
              "\n",
              "    <div id=\"df-639e2abc-b2b0-4b74-abbd-dd2027799ede\">\n",
              "      <button class=\"colab-df-quickchart\" onclick=\"quickchart('df-639e2abc-b2b0-4b74-abbd-dd2027799ede')\"\n",
              "                title=\"Suggest charts\"\n",
              "                style=\"display:none;\">\n",
              "\n",
              "<svg xmlns=\"http://www.w3.org/2000/svg\" height=\"24px\"viewBox=\"0 0 24 24\"\n",
              "     width=\"24px\">\n",
              "    <g>\n",
              "        <path d=\"M19 3H5c-1.1 0-2 .9-2 2v14c0 1.1.9 2 2 2h14c1.1 0 2-.9 2-2V5c0-1.1-.9-2-2-2zM9 17H7v-7h2v7zm4 0h-2V7h2v10zm4 0h-2v-4h2v4z\"/>\n",
              "    </g>\n",
              "</svg>\n",
              "      </button>\n",
              "\n",
              "<style>\n",
              "  .colab-df-quickchart {\n",
              "      --bg-color: #E8F0FE;\n",
              "      --fill-color: #1967D2;\n",
              "      --hover-bg-color: #E2EBFA;\n",
              "      --hover-fill-color: #174EA6;\n",
              "      --disabled-fill-color: #AAA;\n",
              "      --disabled-bg-color: #DDD;\n",
              "  }\n",
              "\n",
              "  [theme=dark] .colab-df-quickchart {\n",
              "      --bg-color: #3B4455;\n",
              "      --fill-color: #D2E3FC;\n",
              "      --hover-bg-color: #434B5C;\n",
              "      --hover-fill-color: #FFFFFF;\n",
              "      --disabled-bg-color: #3B4455;\n",
              "      --disabled-fill-color: #666;\n",
              "  }\n",
              "\n",
              "  .colab-df-quickchart {\n",
              "    background-color: var(--bg-color);\n",
              "    border: none;\n",
              "    border-radius: 50%;\n",
              "    cursor: pointer;\n",
              "    display: none;\n",
              "    fill: var(--fill-color);\n",
              "    height: 32px;\n",
              "    padding: 0;\n",
              "    width: 32px;\n",
              "  }\n",
              "\n",
              "  .colab-df-quickchart:hover {\n",
              "    background-color: var(--hover-bg-color);\n",
              "    box-shadow: 0 1px 2px rgba(60, 64, 67, 0.3), 0 1px 3px 1px rgba(60, 64, 67, 0.15);\n",
              "    fill: var(--button-hover-fill-color);\n",
              "  }\n",
              "\n",
              "  .colab-df-quickchart-complete:disabled,\n",
              "  .colab-df-quickchart-complete:disabled:hover {\n",
              "    background-color: var(--disabled-bg-color);\n",
              "    fill: var(--disabled-fill-color);\n",
              "    box-shadow: none;\n",
              "  }\n",
              "\n",
              "  .colab-df-spinner {\n",
              "    border: 2px solid var(--fill-color);\n",
              "    border-color: transparent;\n",
              "    border-bottom-color: var(--fill-color);\n",
              "    animation:\n",
              "      spin 1s steps(1) infinite;\n",
              "  }\n",
              "\n",
              "  @keyframes spin {\n",
              "    0% {\n",
              "      border-color: transparent;\n",
              "      border-bottom-color: var(--fill-color);\n",
              "      border-left-color: var(--fill-color);\n",
              "    }\n",
              "    20% {\n",
              "      border-color: transparent;\n",
              "      border-left-color: var(--fill-color);\n",
              "      border-top-color: var(--fill-color);\n",
              "    }\n",
              "    30% {\n",
              "      border-color: transparent;\n",
              "      border-left-color: var(--fill-color);\n",
              "      border-top-color: var(--fill-color);\n",
              "      border-right-color: var(--fill-color);\n",
              "    }\n",
              "    40% {\n",
              "      border-color: transparent;\n",
              "      border-right-color: var(--fill-color);\n",
              "      border-top-color: var(--fill-color);\n",
              "    }\n",
              "    60% {\n",
              "      border-color: transparent;\n",
              "      border-right-color: var(--fill-color);\n",
              "    }\n",
              "    80% {\n",
              "      border-color: transparent;\n",
              "      border-right-color: var(--fill-color);\n",
              "      border-bottom-color: var(--fill-color);\n",
              "    }\n",
              "    90% {\n",
              "      border-color: transparent;\n",
              "      border-bottom-color: var(--fill-color);\n",
              "    }\n",
              "  }\n",
              "</style>\n",
              "\n",
              "      <script>\n",
              "        async function quickchart(key) {\n",
              "          const quickchartButtonEl =\n",
              "            document.querySelector('#' + key + ' button');\n",
              "          quickchartButtonEl.disabled = true;  // To prevent multiple clicks.\n",
              "          quickchartButtonEl.classList.add('colab-df-spinner');\n",
              "          try {\n",
              "            const charts = await google.colab.kernel.invokeFunction(\n",
              "                'suggestCharts', [key], {});\n",
              "          } catch (error) {\n",
              "            console.error('Error during call to suggestCharts:', error);\n",
              "          }\n",
              "          quickchartButtonEl.classList.remove('colab-df-spinner');\n",
              "          quickchartButtonEl.classList.add('colab-df-quickchart-complete');\n",
              "        }\n",
              "        (() => {\n",
              "          let quickchartButtonEl =\n",
              "            document.querySelector('#df-639e2abc-b2b0-4b74-abbd-dd2027799ede button');\n",
              "          quickchartButtonEl.style.display =\n",
              "            google.colab.kernel.accessAllowed ? 'block' : 'none';\n",
              "        })();\n",
              "      </script>\n",
              "    </div>\n",
              "\n",
              "    </div>\n",
              "  </div>\n"
            ],
            "application/vnd.google.colaboratory.intrinsic+json": {
              "type": "dataframe",
              "variable_name": "df_train",
              "summary": "{\n  \"name\": \"df_train\",\n  \"rows\": 512,\n  \"fields\": [\n    {\n      \"column\": \"Entry\",\n      \"properties\": {\n        \"dtype\": \"string\",\n        \"num_unique_values\": 512,\n        \"samples\": [\n          \"O65399\",\n          \"P48928\",\n          \"Q8BMZ5\"\n        ],\n        \"semantic_type\": \"\",\n        \"description\": \"\"\n      }\n    },\n    {\n      \"column\": \"Label\",\n      \"properties\": {\n        \"dtype\": \"category\",\n        \"num_unique_values\": 128,\n        \"samples\": [\n          \"3.1.21.4\",\n          \"2.7.7.6\",\n          \"2.3.2.27\"\n        ],\n        \"semantic_type\": \"\",\n        \"description\": \"\"\n      }\n    },\n    {\n      \"column\": \"Sequence\",\n      \"properties\": {\n        \"dtype\": \"string\",\n        \"num_unique_values\": 512,\n        \"samples\": [\n          \"ATGGCTTTCACTAGCATGGTTTCCACCGTTCCTGTTCTCTTCTTCTTCTTCACTCTTCTTTTGATTTCTGCGAATTCGTCGTCTTTATCTCACAACATTAAGGTTCAGGAACAAGACAAAGATCCCTTCGTTGGTTTCAACATCGGCACAGATGTCTCTAATCTTCTCTCGCCGACGGAATTAGTCAAATTTCTCCAAGCTCAGAAAGTAAATCACGTCCGATTATACGATGCTGATCCAGAATTGCTCAAAGCATTAGCTAAAACCAAGGTACGAGTCATAATCAGTGTACCAAACAATCAGCTTCTCGCTATTGGATCATCCAACAGTACTGCTGCGTCATGGATTGGTAGAAATGTTGTTGCTTATTACCCTGAAACATTAATCACAGCCATTTCTGTTGGAGATGAGGTTTTAACAACTGTGCCTTCTTCAGCTCCTTTGCTTTTACCTGCTATTGAGTCTTTATACAATGCTCTTGTTGCTTCTAATCTCCACACTCAAATCAAGGTCTCTACGCCTCACGCAGCTTCCATCATGCTCGATACTTTCCCGCCTTCTCAAGCTTACTTTAACCAGACTTGGCATTCGATTATGGTTCCTCTGCTTCAGTTCTTGTCGAAAACAGGTTCTCCTTTGATGATGAATCTGTATCCTTACTATGTTTATATGCAGAACAAAGGTGTGGTTCCGCTCGATAACTGTTTGTTTGAGCCATTGACACCGTCTAAAGAAATGGTGGATCCGAACACTTTGTTGCATTACACGAATGTTCTTGATGCTATGGTTGATGCTGCTTATGTCTCGATGAAAAACTTAAATGTGTCTGATGTGGCTGTGCTTGTGACTGAGAGTGGCTGGCCTTCGAAAGGTGACTCGAAAGAGCCTTATGCTACTATCGACAATGCTGATACGTACAACTCGAATTTGATCAAGCATGTGTTTGATAGAACTGGTACTCCTTTGCACCCTGAGATGACTTCAAGTGTCTACATTTATGAGTTGTTTAATGAGGATTTGAGGGCTCCTCCGGTTAGTGAAGCTAGTTGGGGGTTATTCTATGGGAACTCTACACCGGTTTATTTGCTTCATGTATCTGGAAGTGGAACGTTCTTAGCGAATGATACAACAAACCAGACTTACTGCATTGCTATGGATGGTGTGGATGCGAAGACGCTTCAAGCTGCATTGGATTGGGCTTGTGGACCTGGGAGATCTAACTGTAGTGAGATTCAACCTGGGGAGAGTTGTTACCAGCCGAATAATGTGAAGGGACATGCTTCGTTTGCTTTTAATAGTTATTACCAGAAGGAAGGAAGAGCTTCTGGTTCATGTGACTTCAAAGGTGTGGCTATGATCACTACTACTGACCCAAGTCATGGAAGCTGCATTTTCCCGGGAAGCAAGAAGGTCGGAAATAGGACACAGACAGTGGTGAATTCGACTGAAGTTGCCGCGGGTGAAGCTACTTCAAGGAGTCTCTCAAGAGGCTTCTGTGTCACTATTATGATTCTTGTAACATTTTCCATATTG\",\n          \"ATGACTATTTATAGCTACTTATTATTATTATGTATGGTAATGTTTGTCACGTTTTTTACTCAAAAAAATAACATTTTAAGATTAATAGTAGTTCTAGAAAGTTTAATATTAATTACTCTCTCGAGTGTAGCTGTTTCCCTTAATTATATGGCTGGATCCAGCATAGTAATAATTTTATTATTGTGTTTTGCTGCTGCAGAAGCAGCATTAAGGCTGAGTTTACTTGTTTGCTTTATTCAAGTTAATTCTAGGTGTGAAATATTAGCAATAAATAAAATTTTGTTTGCAAAAAAATCGT\",\n          \"ATGCTGGTGGTGGAGGTCGCAAATGGCCGCTCGCTGGTGTGGGGAGCCGAGGCCGTGCAGGCGCTGCGGGAGCGTCTGGGAGTCGGGGGACGCACGGTGGGCGCCCTGCCCCGCGGGCCCCGCCAGAACTCGCGCCTGGGCCTTCCGCTTCTGCTGCTGCCTGAAGAAGCCCGGCTCCTGGCCGAGATAGGCGCGGTGACCCTAGTCAGCGCCCCGCGCCCGGACCCCCGCAACCATGGCTTGGCCCTAGCATCGTTCAAACGCCAGCAAGAGCAGAGTTTCCAGGATCAGAACACTTTGGCAGCCGAGGCCCGGGAGACCCGGCGTCAGGAGCTTCTAGAGAAGATCGTAGAGGGCCAGGCTGCCAAGAAGCAGAAGCTGGAACAGGATTCAGGGGCAGATGAAGGAGGCCAAGAAGCCGGTGGAAGTGAGGCTACCCAAGGGAGTGAGACCAGTGATGATGGCCAGCCTTCTGCGGAGCAGGAGGGAGCAGCCCCATCCCTAGATTCTTCATCTCCCCAACCAGGACCTTCAAATGGGGTGACTCCCTTGCCCAGATCAGCCCTGCTTATCCAGCTGGCCACTGCCAGGCCTCGGCCTGTAAAAGCTAAGCCTCTGGACTGGCGTGTGCAGTCCAAAGACTGGCCCCATGCTGGCCGTCCTGCCCACGAGCTGCGCTACAGCATCTACCGAGACCTGTGGGAGAGAGGTTTCTTCCTCAGCGCAGCAGGGAAGTTTGGTGGTGACTTCCTGGTCTATCCTGGTGATCCACTGCGTTTCCATGCTCACTACATTGCTCAGTGCTGGTCTGCTGAGGACCCCATCCCACTTCAGGACCTGGTCTCTGCAGGCCGCCTGGGAACCAGTGTCAGGAAGACCCTGCTGCTCTGCTCCCCTCAGCCTGATGGGAAGGTGGTCTACACATCCCTGCAGTGGGCCAGCCTGCAG\"\n        ],\n        \"semantic_type\": \"\",\n        \"description\": \"\"\n      }\n    }\n  ]\n}"
            }
          },
          "metadata": {},
          "execution_count": 5
        }
      ]
    },
    {
      "cell_type": "code",
      "source": [
        "# Print number of training and testing points\n",
        "print(\"Shape of training dataframe: \", df_train.shape)\n",
        "print(\"Shape of testing dataframe: \", df_test.shape)"
      ],
      "metadata": {
        "colab": {
          "base_uri": "https://localhost:8080/"
        },
        "id": "Gx1A5dWSGDFm",
        "outputId": "20f42dd6-1fd0-4f48-a959-300321c4afd5"
      },
      "execution_count": 6,
      "outputs": [
        {
          "output_type": "stream",
          "name": "stdout",
          "text": [
            "Shape of training dataframe:  (512, 3)\n",
            "Shape of testing dataframe:  (128, 3)\n"
          ]
        }
      ]
    },
    {
      "cell_type": "code",
      "source": [
        "# List of Unique Classes\n",
        "unique_classes = df_train['Label'].unique()\n",
        "print(f\"Number of unique classes: {len(unique_classes)}\")\n",
        "print(\"Classes:\", unique_classes)"
      ],
      "metadata": {
        "colab": {
          "base_uri": "https://localhost:8080/"
        },
        "id": "r33WzCnIGjn5",
        "outputId": "86d47a53-5289-499e-ae85-b43eb8573fc4"
      },
      "execution_count": 7,
      "outputs": [
        {
          "output_type": "stream",
          "name": "stdout",
          "text": [
            "Number of unique classes: 128\n",
            "Classes: ['1.14.14.18' '1.15.1.1' '1.16.3.1' '1.17.4.1' '1.5.98.3' '1.8.3.2'\n",
            " '2.1.1.354' '2.1.1.360' '2.1.1.37' '2.1.1.72' '2.1.1.77' '2.1.1.86'\n",
            " '2.1.3.15' '2.3.1.225' '2.3.1.269' '2.3.1.48' '2.3.1.51' '2.3.2.23'\n",
            " '2.3.2.26' '2.3.2.27' '2.3.2.31' '2.4.1.109' '2.4.1.198' '2.4.2.31'\n",
            " '2.5.1.18' '2.7.1.107' '2.7.1.21' '2.7.1.33' '2.7.1.67' '2.7.10.1'\n",
            " '2.7.10.2' '2.7.11.1' '2.7.11.25' '2.7.13.3' '2.7.4.3' '2.7.6.1'\n",
            " '2.7.7.108' '2.7.7.19' '2.7.7.48' '2.7.7.49' '2.7.7.6' '2.7.7.65'\n",
            " '2.7.7.7' '2.7.8.7' '2.8.1.13' '3.1.1.1' '3.1.1.3' '3.1.1.32' '3.1.1.4'\n",
            " '3.1.1.96' '3.1.11.2' '3.1.11.6' '3.1.12.1' '3.1.13.4' '3.1.21.10'\n",
            " '3.1.21.4' '3.1.26.3' '3.1.26.4' '3.1.26.5' '3.1.3.16' '3.1.3.18'\n",
            " '3.1.3.2' '3.1.3.3' '3.1.3.48' '3.1.3.5' '3.1.4.12' '3.1.4.35' '3.1.4.4'\n",
            " '3.1.4.52' '3.2.1.1' '3.2.1.14' '3.2.1.17' '3.2.1.18' '3.2.1.22'\n",
            " '3.2.1.23' '3.2.1.35' '3.2.1.39' '3.2.1.4' '3.2.1.52' '3.2.1.55'\n",
            " '3.2.1.78' '3.2.1.8' '3.2.1.96' '3.2.2.22' '3.2.2.6' '3.4.19.12'\n",
            " '3.4.21.105' '3.4.22.49' '3.4.23.36' '3.5.1.28' '3.5.1.98' '3.5.2.6'\n",
            " '3.6.1.1' '3.6.1.13' '3.6.1.23' '3.6.1.5' '3.6.1.9' '3.6.4.12' '3.6.4.13'\n",
            " '3.8.1.2' '4.2.1.1' '4.2.1.10' '4.2.1.2' '4.2.1.20' '4.2.2.2' '4.2.2.3'\n",
            " '4.2.2.n1' '4.4.1.3' '4.6.1.1' '4.6.1.16' '4.6.1.2' '5.2.1.8' '5.3.4.1'\n",
            " '5.4.99.5' '5.6.2.2' '5.6.2.4' '6.1.1.19' '6.3.2.4' '6.3.4.19' '6.3.5.2'\n",
            " '6.3.5.5' '6.5.1.1' '6.5.1.3' '7.1.1.2' '7.1.1.8' '7.1.1.9' '7.1.2.2'\n",
            " '7.2.1.1']\n"
          ]
        }
      ]
    },
    {
      "cell_type": "code",
      "source": [
        "# Number of datapoints per class\n",
        "class_counts = df_train['Label'].value_counts()\n",
        "print(\"Number of samples per class in the training set:\")\n",
        "print(class_counts)"
      ],
      "metadata": {
        "colab": {
          "base_uri": "https://localhost:8080/"
        },
        "id": "Yb3aksClGwFh",
        "outputId": "afe03b42-1c15-45a7-ae30-719019b05ed6"
      },
      "execution_count": 8,
      "outputs": [
        {
          "output_type": "stream",
          "name": "stdout",
          "text": [
            "Number of samples per class in the training set:\n",
            "Label\n",
            "1.14.14.18    4\n",
            "1.15.1.1      4\n",
            "1.16.3.1      4\n",
            "1.17.4.1      4\n",
            "1.5.98.3      4\n",
            "             ..\n",
            "7.1.1.2       4\n",
            "7.1.1.8       4\n",
            "7.1.1.9       4\n",
            "7.1.2.2       4\n",
            "7.2.1.1       4\n",
            "Name: count, Length: 128, dtype: int64\n"
          ]
        }
      ]
    },
    {
      "cell_type": "code",
      "source": [
        "# Sequence length statistics\n",
        "df_train['Sequence_Length'] = df_train['Sequence'].apply(len)\n",
        "print(df_train['Sequence_Length'].describe())"
      ],
      "metadata": {
        "colab": {
          "base_uri": "https://localhost:8080/"
        },
        "id": "qLxM_zh4G3Eu",
        "outputId": "9e5c58a5-d67f-4dac-e2b4-519682aa8ce6"
      },
      "execution_count": 9,
      "outputs": [
        {
          "output_type": "stream",
          "name": "stdout",
          "text": [
            "count     512.000000\n",
            "mean     1243.017578\n",
            "std       571.600744\n",
            "min       123.000000\n",
            "25%       741.000000\n",
            "50%      1179.000000\n",
            "75%      1905.750000\n",
            "max      2000.000000\n",
            "Name: Sequence_Length, dtype: float64\n"
          ]
        }
      ]
    },
    {
      "cell_type": "code",
      "source": [
        "# Function to print datapoint-related stats after each pre-processing step\n",
        "def show_stats(df, step_name):\n",
        "    print(f\"\\n=== {step_name} ===\")\n",
        "    print(\" Total samples:\", len(df))\n",
        "    print(\" Per-label counts:\\n\", df['label'].value_counts())"
      ],
      "metadata": {
        "id": "xQ1ElG197MAe"
      },
      "execution_count": 10,
      "outputs": []
    },
    {
      "cell_type": "markdown",
      "source": [
        "### Pre-processing"
      ],
      "metadata": {
        "id": "A2zf7h_n04UJ"
      }
    },
    {
      "cell_type": "code",
      "source": [
        "# Random mutation\n",
        "# generates n_mut variants per original by flipping each base at rate 2%.\n",
        "def random_mutation(seq: str, rate: float = 0.02) -> str:\n",
        "    nts = ['A','C','G','T']\n",
        "    return ''.join(\n",
        "        (random.choice(nts) if random.random() < rate else c)\n",
        "        for c in seq\n",
        "    )\n",
        "\n",
        "# Apply n_mut augmented mutants per original\n",
        "n_mut = 7\n",
        "aug_mut_seqs   = []\n",
        "aug_mut_labels = []\n",
        "for seq, lab in zip(df_train['Sequence'], df_train['Label']):\n",
        "    for _ in range(n_mut):\n",
        "        aug_mut_seqs.append(random_mutation(seq, rate=0.02))\n",
        "        aug_mut_labels.append(lab)\n",
        "\n",
        "# After this we will have 16 points per label"
      ],
      "metadata": {
        "id": "Fin0tqB7076G"
      },
      "execution_count": 11,
      "outputs": []
    },
    {
      "cell_type": "code",
      "source": [
        "labels_step1 = orig_labels + aug_mut_labels\n",
        "print(\"\\n=== After Random Mutation ===\")\n",
        "print(\" Total samples:\", len(labels_step1))\n",
        "print(\" Per-label counts:\", Counter(labels_step1))"
      ],
      "metadata": {
        "colab": {
          "base_uri": "https://localhost:8080/"
        },
        "id": "MIAV8HcD7SBW",
        "outputId": "30c03042-2a50-47bc-bb7a-d0c7bcace588"
      },
      "execution_count": 12,
      "outputs": [
        {
          "output_type": "stream",
          "name": "stdout",
          "text": [
            "\n",
            "=== After Random Mutation ===\n",
            " Total samples: 4096\n",
            " Per-label counts: Counter({'1.14.14.18': 32, '1.15.1.1': 32, '1.16.3.1': 32, '1.17.4.1': 32, '1.5.98.3': 32, '1.8.3.2': 32, '2.1.1.354': 32, '2.1.1.360': 32, '2.1.1.37': 32, '2.1.1.72': 32, '2.1.1.77': 32, '2.1.1.86': 32, '2.1.3.15': 32, '2.3.1.225': 32, '2.3.1.269': 32, '2.3.1.48': 32, '2.3.1.51': 32, '2.3.2.23': 32, '2.3.2.26': 32, '2.3.2.27': 32, '2.3.2.31': 32, '2.4.1.109': 32, '2.4.1.198': 32, '2.4.2.31': 32, '2.5.1.18': 32, '2.7.1.107': 32, '2.7.1.21': 32, '2.7.1.33': 32, '2.7.1.67': 32, '2.7.10.1': 32, '2.7.10.2': 32, '2.7.11.1': 32, '2.7.11.25': 32, '2.7.13.3': 32, '2.7.4.3': 32, '2.7.6.1': 32, '2.7.7.108': 32, '2.7.7.19': 32, '2.7.7.48': 32, '2.7.7.49': 32, '2.7.7.6': 32, '2.7.7.65': 32, '2.7.7.7': 32, '2.7.8.7': 32, '2.8.1.13': 32, '3.1.1.1': 32, '3.1.1.3': 32, '3.1.1.32': 32, '3.1.1.4': 32, '3.1.1.96': 32, '3.1.11.2': 32, '3.1.11.6': 32, '3.1.12.1': 32, '3.1.13.4': 32, '3.1.21.10': 32, '3.1.21.4': 32, '3.1.26.3': 32, '3.1.26.4': 32, '3.1.26.5': 32, '3.1.3.16': 32, '3.1.3.18': 32, '3.1.3.2': 32, '3.1.3.3': 32, '3.1.3.48': 32, '3.1.3.5': 32, '3.1.4.12': 32, '3.1.4.35': 32, '3.1.4.4': 32, '3.1.4.52': 32, '3.2.1.1': 32, '3.2.1.14': 32, '3.2.1.17': 32, '3.2.1.18': 32, '3.2.1.22': 32, '3.2.1.23': 32, '3.2.1.35': 32, '3.2.1.39': 32, '3.2.1.4': 32, '3.2.1.52': 32, '3.2.1.55': 32, '3.2.1.78': 32, '3.2.1.8': 32, '3.2.1.96': 32, '3.2.2.22': 32, '3.2.2.6': 32, '3.4.19.12': 32, '3.4.21.105': 32, '3.4.22.49': 32, '3.4.23.36': 32, '3.5.1.28': 32, '3.5.1.98': 32, '3.5.2.6': 32, '3.6.1.1': 32, '3.6.1.13': 32, '3.6.1.23': 32, '3.6.1.5': 32, '3.6.1.9': 32, '3.6.4.12': 32, '3.6.4.13': 32, '3.8.1.2': 32, '4.2.1.1': 32, '4.2.1.10': 32, '4.2.1.2': 32, '4.2.1.20': 32, '4.2.2.2': 32, '4.2.2.3': 32, '4.2.2.n1': 32, '4.4.1.3': 32, '4.6.1.1': 32, '4.6.1.16': 32, '4.6.1.2': 32, '5.2.1.8': 32, '5.3.4.1': 32, '5.4.99.5': 32, '5.6.2.2': 32, '5.6.2.4': 32, '6.1.1.19': 32, '6.3.2.4': 32, '6.3.4.19': 32, '6.3.5.2': 32, '6.3.5.5': 32, '6.5.1.1': 32, '6.5.1.3': 32, '7.1.1.2': 32, '7.1.1.8': 32, '7.1.1.9': 32, '7.1.2.2': 32, '7.2.1.1': 32})\n"
          ]
        }
      ]
    },
    {
      "cell_type": "code",
      "source": [
        "# Reverse‐complement: produces one reverse‐complement per sequence.\n",
        "# Not used for final prediction\n",
        "comp_table = str.maketrans('ACGT', 'TGCA')\n",
        "def reverse_complement(seq: str) -> str:\n",
        "    return seq.translate(comp_table)[::-1]\n",
        "\n",
        "\n",
        "aug_rc_seqs   = df_train['Sequence'].apply(reverse_complement).tolist()\n",
        "aug_rc_labels = df_train['Label'].tolist()\n",
        "# After this we will have 20 pts per label"
      ],
      "metadata": {
        "id": "xNyKsQ56078p"
      },
      "execution_count": 13,
      "outputs": []
    },
    {
      "cell_type": "code",
      "source": [
        "labels_step2 = labels_step1 + aug_rc_labels\n",
        "print(\"\\n=== After Reverse-Complement ===\")\n",
        "print(\" Total samples:\", len(labels_step2))\n",
        "print(\" Per-label counts:\", Counter(labels_step2))"
      ],
      "metadata": {
        "colab": {
          "base_uri": "https://localhost:8080/"
        },
        "id": "KZ_EteB18Od_",
        "outputId": "8f195c9c-b9ec-4b22-c389-c4abf6717d9c"
      },
      "execution_count": 14,
      "outputs": [
        {
          "output_type": "stream",
          "name": "stdout",
          "text": [
            "\n",
            "=== After Reverse-Complement ===\n",
            " Total samples: 4608\n",
            " Per-label counts: Counter({'1.14.14.18': 36, '1.15.1.1': 36, '1.16.3.1': 36, '1.17.4.1': 36, '1.5.98.3': 36, '1.8.3.2': 36, '2.1.1.354': 36, '2.1.1.360': 36, '2.1.1.37': 36, '2.1.1.72': 36, '2.1.1.77': 36, '2.1.1.86': 36, '2.1.3.15': 36, '2.3.1.225': 36, '2.3.1.269': 36, '2.3.1.48': 36, '2.3.1.51': 36, '2.3.2.23': 36, '2.3.2.26': 36, '2.3.2.27': 36, '2.3.2.31': 36, '2.4.1.109': 36, '2.4.1.198': 36, '2.4.2.31': 36, '2.5.1.18': 36, '2.7.1.107': 36, '2.7.1.21': 36, '2.7.1.33': 36, '2.7.1.67': 36, '2.7.10.1': 36, '2.7.10.2': 36, '2.7.11.1': 36, '2.7.11.25': 36, '2.7.13.3': 36, '2.7.4.3': 36, '2.7.6.1': 36, '2.7.7.108': 36, '2.7.7.19': 36, '2.7.7.48': 36, '2.7.7.49': 36, '2.7.7.6': 36, '2.7.7.65': 36, '2.7.7.7': 36, '2.7.8.7': 36, '2.8.1.13': 36, '3.1.1.1': 36, '3.1.1.3': 36, '3.1.1.32': 36, '3.1.1.4': 36, '3.1.1.96': 36, '3.1.11.2': 36, '3.1.11.6': 36, '3.1.12.1': 36, '3.1.13.4': 36, '3.1.21.10': 36, '3.1.21.4': 36, '3.1.26.3': 36, '3.1.26.4': 36, '3.1.26.5': 36, '3.1.3.16': 36, '3.1.3.18': 36, '3.1.3.2': 36, '3.1.3.3': 36, '3.1.3.48': 36, '3.1.3.5': 36, '3.1.4.12': 36, '3.1.4.35': 36, '3.1.4.4': 36, '3.1.4.52': 36, '3.2.1.1': 36, '3.2.1.14': 36, '3.2.1.17': 36, '3.2.1.18': 36, '3.2.1.22': 36, '3.2.1.23': 36, '3.2.1.35': 36, '3.2.1.39': 36, '3.2.1.4': 36, '3.2.1.52': 36, '3.2.1.55': 36, '3.2.1.78': 36, '3.2.1.8': 36, '3.2.1.96': 36, '3.2.2.22': 36, '3.2.2.6': 36, '3.4.19.12': 36, '3.4.21.105': 36, '3.4.22.49': 36, '3.4.23.36': 36, '3.5.1.28': 36, '3.5.1.98': 36, '3.5.2.6': 36, '3.6.1.1': 36, '3.6.1.13': 36, '3.6.1.23': 36, '3.6.1.5': 36, '3.6.1.9': 36, '3.6.4.12': 36, '3.6.4.13': 36, '3.8.1.2': 36, '4.2.1.1': 36, '4.2.1.10': 36, '4.2.1.2': 36, '4.2.1.20': 36, '4.2.2.2': 36, '4.2.2.3': 36, '4.2.2.n1': 36, '4.4.1.3': 36, '4.6.1.1': 36, '4.6.1.16': 36, '4.6.1.2': 36, '5.2.1.8': 36, '5.3.4.1': 36, '5.4.99.5': 36, '5.6.2.2': 36, '5.6.2.4': 36, '6.1.1.19': 36, '6.3.2.4': 36, '6.3.4.19': 36, '6.3.5.2': 36, '6.3.5.5': 36, '6.5.1.1': 36, '6.5.1.3': 36, '7.1.1.2': 36, '7.1.1.8': 36, '7.1.1.9': 36, '7.1.2.2': 36, '7.2.1.1': 36})\n"
          ]
        }
      ]
    },
    {
      "cell_type": "code",
      "source": [
        "# K-mer shuffle\n",
        "# For n_kmer iterations, shuffles overlapping 3-mers and reassembles.\n",
        "# Not used for final prediction\n",
        "def kmer_shuffle(seq: str, k: int = 3) -> str:\n",
        "    # break into overlapping kmers\n",
        "    kmers = [seq[i:i+k] for i in range(len(seq)-k+1)]\n",
        "    random.shuffle(kmers)\n",
        "    # reassemble by stitching\n",
        "    out = kmers[0]\n",
        "    for km in kmers[1:]:\n",
        "        out += km[-1]\n",
        "    return out\n",
        "\n",
        "n_kmer = 2\n",
        "aug_kmer_seqs   = []\n",
        "aug_kmer_labels = []\n",
        "for seq, lab in zip(df_train['Sequence'], df_train['Label']):\n",
        "    for _ in range(n_kmer):\n",
        "        aug_kmer_seqs.append(kmer_shuffle(seq, k=3))\n",
        "        aug_kmer_labels.append(lab)\n",
        "\n",
        "# After this we have 28 points per label"
      ],
      "metadata": {
        "id": "asaMHveX07-_"
      },
      "execution_count": 15,
      "outputs": []
    },
    {
      "cell_type": "code",
      "source": [
        "\n",
        "\n",
        "labels_step3 = labels_step2 + aug_kmer_labels\n",
        "print(\"\\n=== After K-mer Shuffle ===\")\n",
        "print(\" Total samples:\", len(labels_step3))\n",
        "print(\" Per-label counts:\", Counter(labels_step3))"
      ],
      "metadata": {
        "colab": {
          "base_uri": "https://localhost:8080/"
        },
        "id": "UcnCP3xY8Uvz",
        "outputId": "fdf09222-b038-4387-f6af-6301ccb58859"
      },
      "execution_count": 16,
      "outputs": [
        {
          "output_type": "stream",
          "name": "stdout",
          "text": [
            "\n",
            "=== After K-mer Shuffle ===\n",
            " Total samples: 5632\n",
            " Per-label counts: Counter({'1.14.14.18': 44, '1.15.1.1': 44, '1.16.3.1': 44, '1.17.4.1': 44, '1.5.98.3': 44, '1.8.3.2': 44, '2.1.1.354': 44, '2.1.1.360': 44, '2.1.1.37': 44, '2.1.1.72': 44, '2.1.1.77': 44, '2.1.1.86': 44, '2.1.3.15': 44, '2.3.1.225': 44, '2.3.1.269': 44, '2.3.1.48': 44, '2.3.1.51': 44, '2.3.2.23': 44, '2.3.2.26': 44, '2.3.2.27': 44, '2.3.2.31': 44, '2.4.1.109': 44, '2.4.1.198': 44, '2.4.2.31': 44, '2.5.1.18': 44, '2.7.1.107': 44, '2.7.1.21': 44, '2.7.1.33': 44, '2.7.1.67': 44, '2.7.10.1': 44, '2.7.10.2': 44, '2.7.11.1': 44, '2.7.11.25': 44, '2.7.13.3': 44, '2.7.4.3': 44, '2.7.6.1': 44, '2.7.7.108': 44, '2.7.7.19': 44, '2.7.7.48': 44, '2.7.7.49': 44, '2.7.7.6': 44, '2.7.7.65': 44, '2.7.7.7': 44, '2.7.8.7': 44, '2.8.1.13': 44, '3.1.1.1': 44, '3.1.1.3': 44, '3.1.1.32': 44, '3.1.1.4': 44, '3.1.1.96': 44, '3.1.11.2': 44, '3.1.11.6': 44, '3.1.12.1': 44, '3.1.13.4': 44, '3.1.21.10': 44, '3.1.21.4': 44, '3.1.26.3': 44, '3.1.26.4': 44, '3.1.26.5': 44, '3.1.3.16': 44, '3.1.3.18': 44, '3.1.3.2': 44, '3.1.3.3': 44, '3.1.3.48': 44, '3.1.3.5': 44, '3.1.4.12': 44, '3.1.4.35': 44, '3.1.4.4': 44, '3.1.4.52': 44, '3.2.1.1': 44, '3.2.1.14': 44, '3.2.1.17': 44, '3.2.1.18': 44, '3.2.1.22': 44, '3.2.1.23': 44, '3.2.1.35': 44, '3.2.1.39': 44, '3.2.1.4': 44, '3.2.1.52': 44, '3.2.1.55': 44, '3.2.1.78': 44, '3.2.1.8': 44, '3.2.1.96': 44, '3.2.2.22': 44, '3.2.2.6': 44, '3.4.19.12': 44, '3.4.21.105': 44, '3.4.22.49': 44, '3.4.23.36': 44, '3.5.1.28': 44, '3.5.1.98': 44, '3.5.2.6': 44, '3.6.1.1': 44, '3.6.1.13': 44, '3.6.1.23': 44, '3.6.1.5': 44, '3.6.1.9': 44, '3.6.4.12': 44, '3.6.4.13': 44, '3.8.1.2': 44, '4.2.1.1': 44, '4.2.1.10': 44, '4.2.1.2': 44, '4.2.1.20': 44, '4.2.2.2': 44, '4.2.2.3': 44, '4.2.2.n1': 44, '4.4.1.3': 44, '4.6.1.1': 44, '4.6.1.16': 44, '4.6.1.2': 44, '5.2.1.8': 44, '5.3.4.1': 44, '5.4.99.5': 44, '5.6.2.2': 44, '5.6.2.4': 44, '6.1.1.19': 44, '6.3.2.4': 44, '6.3.4.19': 44, '6.3.5.2': 44, '6.3.5.5': 44, '6.5.1.1': 44, '6.5.1.3': 44, '7.1.1.2': 44, '7.1.1.8': 44, '7.1.1.9': 44, '7.1.2.2': 44, '7.2.1.1': 44})\n"
          ]
        }
      ]
    },
    {
      "cell_type": "markdown",
      "source": [
        "### One-hot Encoding"
      ],
      "metadata": {
        "id": "xTCJSu2MNg1S"
      }
    },
    {
      "cell_type": "code",
      "source": [
        "# Combinging synthetic data (after mutations) with actual training data\n",
        "orig_seqs   = df_train['Sequence'].tolist()\n",
        "orig_labels = df_train['Label'].tolist()\n",
        "\n",
        "all_seqs   = orig_seqs + aug_mut_seqs #+  aug_rc_seqs + aug_kmer_seqs\n",
        "all_labels = orig_labels + aug_mut_labels # +  aug_rc_labels + aug_kmer_labels"
      ],
      "metadata": {
        "id": "7dCIZPLxOLlN"
      },
      "execution_count": 17,
      "outputs": []
    },
    {
      "cell_type": "code",
      "source": [
        "# Making all sequences to the same length before one-hot encoding\n",
        "\n",
        "# Padding to max length\n",
        "max_len = max(len(s) for s in all_seqs)\n",
        "def pad_or_truncate(seq: str, length: int, pad_char: str = 'N') -> list[str]:\n",
        "    lst = list(seq)\n",
        "    if len(lst) > length:\n",
        "        return lst[:length]\n",
        "    return lst + [pad_char] * (length - len(lst))\n",
        "\n",
        "padded = [pad_or_truncate(s, max_len) for s in all_seqs]\n",
        "pos_cols = [f'pos_{i}' for i in range(max_len)]\n",
        "df_pos = pd.DataFrame(padded, columns=pos_cols)\n",
        "\n",
        "# OneHotEncode\n",
        "ohe = OneHotEncoder(sparse_output=True, handle_unknown='ignore')\n",
        "X_enc = ohe.fit_transform(df_pos)\n",
        "y_enc = pd.Series(all_labels)"
      ],
      "metadata": {
        "id": "Ma9iZM_i2ESv"
      },
      "execution_count": 18,
      "outputs": []
    },
    {
      "cell_type": "code",
      "source": [
        "# SMOTE - not used for final prediction since all classes have equal number of datapoints.\n",
        "\"\"\"\n",
        "sm = SMOTE(k_neighbors=3,  random_state=42)\n",
        "X_dense = X_enc.toarray()\n",
        "X_res, y_res = sm.fit_resample(X_dense, y_enc)\n",
        "\"\"\""
      ],
      "metadata": {
        "id": "kPlNg-Gw2EXq",
        "colab": {
          "base_uri": "https://localhost:8080/",
          "height": 35
        },
        "outputId": "ebdc45c8-54c5-4bab-e520-8ff58cfa17e4"
      },
      "execution_count": 19,
      "outputs": [
        {
          "output_type": "execute_result",
          "data": {
            "text/plain": [
              "'\\nsm = SMOTE(k_neighbors=3,  random_state=42)\\nX_dense = X_enc.toarray()\\nX_res, y_res = sm.fit_resample(X_dense, y_enc)\\n'"
            ],
            "application/vnd.google.colaboratory.intrinsic+json": {
              "type": "string"
            }
          },
          "metadata": {},
          "execution_count": 19
        }
      ]
    },
    {
      "cell_type": "markdown",
      "source": [
        "### Random Forest"
      ],
      "metadata": {
        "id": "xWx3d_z3lqc6"
      }
    },
    {
      "cell_type": "code",
      "source": [
        "clf = RandomForestClassifier(\n",
        "    n_estimators=500,\n",
        "    max_depth=None,\n",
        "    min_samples_split=10,\n",
        "    max_features=\"sqrt\",\n",
        "    random_state=42,\n",
        "    n_jobs=-1,\n",
        "    class_weight='balanced_subsample'\n",
        ")\n",
        "\n",
        "clf.fit(X_enc, y_enc)\n",
        "train_acc = clf.score(X_enc, y_enc)\n",
        "print(f\"Train Accuracy: {train_acc:.4f}\")\n",
        "y_train_pred = clf.predict(X_enc)\n",
        "print(\"Train Accuracy:\", accuracy_score(y_enc, y_train_pred))"
      ],
      "metadata": {
        "id": "HoGyk9nV2EaG",
        "colab": {
          "base_uri": "https://localhost:8080/"
        },
        "outputId": "30a96a2d-0a62-496b-b9c7-492bf691a492"
      },
      "execution_count": 20,
      "outputs": [
        {
          "output_type": "stream",
          "name": "stdout",
          "text": [
            "Train Accuracy: 1.0000\n",
            "Train Accuracy: 1.0\n"
          ]
        }
      ]
    },
    {
      "cell_type": "code",
      "source": [
        "# Pad/truncate test sequences\n",
        "padded_test = [pad_or_truncate(s, max_len) for s in df_test['Sequence']]\n",
        "df_test_pos = pd.DataFrame(padded_test, columns=pos_cols)\n",
        "X_test_enc  = ohe.transform(df_test_pos)\n",
        "y_test      = df_test['Label']\n",
        "\n",
        "y_pred = clf.predict(X_test_enc)\n",
        "print(\"Test Accuracy:\", accuracy_score(y_test, y_pred))\n",
        "print(classification_report(y_test, y_pred))\n",
        "\n",
        "f1_micro = f1_score(y_test, y_pred, average='micro')\n",
        "f1_macro = f1_score(y_test, y_pred, average='macro')\n",
        "\n",
        "print(f\"Micro F1-score: {f1_micro:.4f}\")\n",
        "print(f\"Macro F1-score: {f1_macro:.4f}\")"
      ],
      "metadata": {
        "id": "M-98bepZ2rl7",
        "colab": {
          "base_uri": "https://localhost:8080/"
        },
        "outputId": "8a811cbc-d68d-406a-f3f7-aa2ae06f8640"
      },
      "execution_count": 21,
      "outputs": [
        {
          "output_type": "stream",
          "name": "stdout",
          "text": [
            "Test Accuracy: 0.046875\n",
            "              precision    recall  f1-score   support\n",
            "\n",
            "  1.14.14.18       0.00      0.00      0.00         1\n",
            "    1.15.1.1       0.00      0.00      0.00         1\n",
            "    1.16.3.1       0.00      0.00      0.00         1\n",
            "    1.17.4.1       0.00      0.00      0.00         1\n",
            "    1.5.98.3       0.00      0.00      0.00         1\n",
            "     1.8.3.2       0.00      0.00      0.00         1\n",
            "   2.1.1.354       0.00      0.00      0.00         1\n",
            "   2.1.1.360       0.00      0.00      0.00         1\n",
            "    2.1.1.37       0.00      0.00      0.00         1\n",
            "    2.1.1.72       0.00      0.00      0.00         1\n",
            "    2.1.1.77       0.25      1.00      0.40         1\n",
            "    2.1.1.86       0.00      0.00      0.00         1\n",
            "    2.1.3.15       0.00      0.00      0.00         1\n",
            "   2.3.1.225       0.00      0.00      0.00         1\n",
            "   2.3.1.269       0.00      0.00      0.00         1\n",
            "    2.3.1.48       0.00      0.00      0.00         1\n",
            "    2.3.1.51       0.00      0.00      0.00         1\n",
            "    2.3.2.23       0.00      0.00      0.00         1\n",
            "    2.3.2.26       0.00      0.00      0.00         1\n",
            "    2.3.2.27       0.00      0.00      0.00         1\n",
            "    2.3.2.31       0.00      0.00      0.00         1\n",
            "   2.4.1.109       0.00      0.00      0.00         1\n",
            "   2.4.1.198       0.00      0.00      0.00         1\n",
            "    2.4.2.31       0.00      0.00      0.00         1\n",
            "    2.5.1.18       0.00      0.00      0.00         1\n",
            "   2.7.1.107       0.00      0.00      0.00         1\n",
            "    2.7.1.21       0.00      0.00      0.00         1\n",
            "    2.7.1.33       0.00      0.00      0.00         1\n",
            "    2.7.1.67       0.00      0.00      0.00         1\n",
            "    2.7.10.1       0.00      0.00      0.00         1\n",
            "    2.7.10.2       0.00      0.00      0.00         1\n",
            "    2.7.11.1       0.00      0.00      0.00         1\n",
            "   2.7.11.25       0.00      0.00      0.00         1\n",
            "    2.7.13.3       0.00      0.00      0.00         1\n",
            "     2.7.4.3       0.00      0.00      0.00         1\n",
            "     2.7.6.1       0.00      0.00      0.00         1\n",
            "   2.7.7.108       0.00      0.00      0.00         1\n",
            "    2.7.7.19       0.00      0.00      0.00         1\n",
            "    2.7.7.48       0.00      0.00      0.00         1\n",
            "    2.7.7.49       0.00      0.00      0.00         1\n",
            "     2.7.7.6       0.00      0.00      0.00         1\n",
            "    2.7.7.65       0.00      0.00      0.00         1\n",
            "     2.7.7.7       0.00      0.00      0.00         1\n",
            "     2.7.8.7       1.00      1.00      1.00         1\n",
            "    2.8.1.13       0.17      1.00      0.29         1\n",
            "     3.1.1.1       0.00      0.00      0.00         1\n",
            "     3.1.1.3       0.00      0.00      0.00         1\n",
            "    3.1.1.32       0.00      0.00      0.00         1\n",
            "     3.1.1.4       0.00      0.00      0.00         1\n",
            "    3.1.1.96       0.00      0.00      0.00         1\n",
            "    3.1.11.2       0.00      0.00      0.00         1\n",
            "    3.1.11.6       1.00      1.00      1.00         1\n",
            "    3.1.12.1       0.00      0.00      0.00         1\n",
            "    3.1.13.4       0.00      0.00      0.00         1\n",
            "   3.1.21.10       0.00      0.00      0.00         1\n",
            "    3.1.21.4       0.00      0.00      0.00         1\n",
            "    3.1.26.3       0.00      0.00      0.00         1\n",
            "    3.1.26.4       0.00      0.00      0.00         1\n",
            "    3.1.26.5       0.00      0.00      0.00         1\n",
            "    3.1.3.16       0.00      0.00      0.00         1\n",
            "    3.1.3.18       0.00      0.00      0.00         1\n",
            "     3.1.3.2       0.00      0.00      0.00         1\n",
            "     3.1.3.3       0.00      0.00      0.00         1\n",
            "    3.1.3.48       0.00      0.00      0.00         1\n",
            "     3.1.3.5       0.00      0.00      0.00         1\n",
            "    3.1.4.12       0.00      0.00      0.00         1\n",
            "    3.1.4.35       0.00      0.00      0.00         1\n",
            "     3.1.4.4       0.00      0.00      0.00         1\n",
            "    3.1.4.52       0.00      0.00      0.00         1\n",
            "     3.2.1.1       0.00      0.00      0.00         1\n",
            "    3.2.1.14       0.00      0.00      0.00         1\n",
            "    3.2.1.17       0.00      0.00      0.00         1\n",
            "    3.2.1.18       0.00      0.00      0.00         1\n",
            "    3.2.1.22       0.00      0.00      0.00         1\n",
            "    3.2.1.23       0.00      0.00      0.00         1\n",
            "    3.2.1.35       0.00      0.00      0.00         1\n",
            "    3.2.1.39       0.00      0.00      0.00         1\n",
            "     3.2.1.4       0.00      0.00      0.00         1\n",
            "    3.2.1.52       0.00      0.00      0.00         1\n",
            "    3.2.1.55       0.00      0.00      0.00         1\n",
            "    3.2.1.78       0.00      0.00      0.00         1\n",
            "     3.2.1.8       0.00      0.00      0.00         1\n",
            "    3.2.1.96       0.00      0.00      0.00         1\n",
            "    3.2.2.22       0.00      0.00      0.00         1\n",
            "     3.2.2.6       0.00      0.00      0.00         1\n",
            "   3.4.19.12       0.00      0.00      0.00         1\n",
            "  3.4.21.105       0.00      0.00      0.00         1\n",
            "   3.4.22.49       0.00      0.00      0.00         1\n",
            "   3.4.23.36       0.00      0.00      0.00         1\n",
            "    3.5.1.28       0.00      0.00      0.00         1\n",
            "    3.5.1.98       0.00      0.00      0.00         1\n",
            "     3.5.2.6       0.00      0.00      0.00         1\n",
            "     3.6.1.1       0.00      0.00      0.00         1\n",
            "    3.6.1.13       0.00      0.00      0.00         1\n",
            "    3.6.1.23       0.00      0.00      0.00         1\n",
            "     3.6.1.5       0.00      0.00      0.00         1\n",
            "     3.6.1.9       0.00      0.00      0.00         1\n",
            "    3.6.4.12       0.00      0.00      0.00         1\n",
            "    3.6.4.13       0.00      0.00      0.00         1\n",
            "     3.8.1.2       1.00      1.00      1.00         1\n",
            "     4.2.1.1       0.00      0.00      0.00         1\n",
            "    4.2.1.10       0.00      0.00      0.00         1\n",
            "     4.2.1.2       0.00      0.00      0.00         1\n",
            "    4.2.1.20       0.00      0.00      0.00         1\n",
            "     4.2.2.2       0.00      0.00      0.00         1\n",
            "     4.2.2.3       0.00      0.00      0.00         1\n",
            "    4.2.2.n1       0.00      0.00      0.00         1\n",
            "     4.4.1.3       0.00      0.00      0.00         1\n",
            "     4.6.1.1       0.00      0.00      0.00         1\n",
            "    4.6.1.16       0.00      0.00      0.00         1\n",
            "     4.6.1.2       0.00      0.00      0.00         1\n",
            "     5.2.1.8       0.00      0.00      0.00         1\n",
            "     5.3.4.1       0.00      0.00      0.00         1\n",
            "    5.4.99.5       0.00      0.00      0.00         1\n",
            "     5.6.2.2       0.00      0.00      0.00         1\n",
            "     5.6.2.4       0.00      0.00      0.00         1\n",
            "    6.1.1.19       0.00      0.00      0.00         1\n",
            "     6.3.2.4       0.20      1.00      0.33         1\n",
            "    6.3.4.19       0.00      0.00      0.00         1\n",
            "     6.3.5.2       0.00      0.00      0.00         1\n",
            "     6.3.5.5       0.00      0.00      0.00         1\n",
            "     6.5.1.1       0.00      0.00      0.00         1\n",
            "     6.5.1.3       0.00      0.00      0.00         1\n",
            "     7.1.1.2       0.00      0.00      0.00         1\n",
            "     7.1.1.8       0.00      0.00      0.00         1\n",
            "     7.1.1.9       0.00      0.00      0.00         1\n",
            "     7.1.2.2       0.00      0.00      0.00         1\n",
            "     7.2.1.1       0.00      0.00      0.00         1\n",
            "\n",
            "    accuracy                           0.05       128\n",
            "   macro avg       0.03      0.05      0.03       128\n",
            "weighted avg       0.03      0.05      0.03       128\n",
            "\n",
            "Micro F1-score: 0.0469\n",
            "Macro F1-score: 0.0314\n"
          ]
        },
        {
          "output_type": "stream",
          "name": "stderr",
          "text": [
            "/usr/local/lib/python3.11/dist-packages/sklearn/metrics/_classification.py:1565: UndefinedMetricWarning: Precision is ill-defined and being set to 0.0 in labels with no predicted samples. Use `zero_division` parameter to control this behavior.\n",
            "  _warn_prf(average, modifier, f\"{metric.capitalize()} is\", len(result))\n",
            "/usr/local/lib/python3.11/dist-packages/sklearn/metrics/_classification.py:1565: UndefinedMetricWarning: Precision is ill-defined and being set to 0.0 in labels with no predicted samples. Use `zero_division` parameter to control this behavior.\n",
            "  _warn_prf(average, modifier, f\"{metric.capitalize()} is\", len(result))\n",
            "/usr/local/lib/python3.11/dist-packages/sklearn/metrics/_classification.py:1565: UndefinedMetricWarning: Precision is ill-defined and being set to 0.0 in labels with no predicted samples. Use `zero_division` parameter to control this behavior.\n",
            "  _warn_prf(average, modifier, f\"{metric.capitalize()} is\", len(result))\n"
          ]
        }
      ]
    },
    {
      "cell_type": "markdown",
      "source": [
        "### K-mer Encodings"
      ],
      "metadata": {
        "id": "vshD6yMDIb_3"
      }
    },
    {
      "cell_type": "code",
      "source": [
        "orig_seqs   = df_train['Sequence'].tolist()\n",
        "orig_labels = df_train['Label'].tolist()\n",
        "\n",
        "all_seqs   = orig_seqs + aug_mut_seqs #+ aug_rc_seqs + aug_kmer_seqs\n",
        "all_labels = orig_labels + aug_mut_labels #+ aug_rc_labels + aug_kmer_labels\n",
        "\n",
        "train_seqs   = all_seqs\n",
        "train_labels = all_labels\n",
        "test_seqs   = df_test['Sequence'].tolist()\n",
        "test_labels = df_test['Label'].tolist()"
      ],
      "metadata": {
        "id": "cbLg-jyMI06w"
      },
      "execution_count": 17,
      "outputs": []
    },
    {
      "cell_type": "code",
      "source": [
        "def kmer_analyzer(seq, k):\n",
        "    return [seq[i:i+k] for i in range(len(seq) - k + 1)]\n",
        "\n",
        "k = 2\n",
        "bow_vec = CountVectorizer(analyzer=lambda s: kmer_analyzer(s, k=k))\n",
        "X_train_bow = bow_vec.fit_transform(train_seqs)\n",
        "X_test_bow  = bow_vec.transform(test_seqs)\n",
        "\n",
        "rf_bow = RandomForestClassifier(\n",
        "    n_estimators=500,\n",
        "    max_features='sqrt',\n",
        "    class_weight='balanced_subsample',\n",
        "    n_jobs=-1,\n",
        "    random_state=42\n",
        ")\n",
        "rf_bow.fit(X_train_bow, train_labels)\n",
        "print(f\"[BoW k={k}] RF accuracy: {rf_bow.score(X_test_bow, test_labels):.3f}\")"
      ],
      "metadata": {
        "colab": {
          "base_uri": "https://localhost:8080/"
        },
        "id": "D5rI-A5MJA6t",
        "outputId": "74fb116b-2f7b-49c9-851c-424cd4cf38f9"
      },
      "execution_count": 18,
      "outputs": [
        {
          "output_type": "stream",
          "name": "stdout",
          "text": [
            "[BoW k=2] RF accuracy: 0.047\n"
          ]
        }
      ]
    },
    {
      "cell_type": "markdown",
      "source": [
        "### XG Boost Classifier"
      ],
      "metadata": {
        "id": "dEgRKcjmJKpz"
      }
    },
    {
      "cell_type": "code",
      "source": [
        "def kmer_analyzer(seq, k):\n",
        "    return [seq[i:i+k] for i in range(len(seq) - k + 1)]\n",
        "\n",
        "k = 4\n",
        "bow_vec = CountVectorizer(analyzer=lambda s: kmer_analyzer(s, k=k))\n",
        "\n",
        "X_train_bow = bow_vec.fit_transform(train_seqs)  # sparse CSR matrix\n",
        "X_test_bow  = bow_vec.transform(test_seqs)\n",
        "\n",
        "lbl = LabelEncoder() # Encoding labels as integers for XG Boost\n",
        "y_full = lbl.fit_transform(train_labels)\n",
        "y_test = lbl.transform(test_labels)\n",
        "n_classes = len(lbl.classes_)\n",
        "\n",
        "sss = StratifiedShuffleSplit(n_splits=1, test_size=0.15, random_state=42)\n",
        "train_idx, val_idx = next(sss.split(X_train_bow, y_full))\n",
        "\n",
        "X_tr, y_tr = X_train_bow[train_idx], y_full[train_idx]\n",
        "X_va, y_va = X_train_bow[val_idx],  y_full[val_idx]\n",
        "\n",
        "w_tr = compute_sample_weight('balanced', y_tr)\n",
        "w_va = compute_sample_weight('balanced', y_va)\n",
        "\n",
        "# XGBoost with early stopping for regularization\n",
        "xgb = XGBClassifier(\n",
        "        objective       = 'multi:softprob',\n",
        "        num_class       = n_classes,\n",
        "        eval_metric     = 'mlogloss',\n",
        "        n_estimators    = 500,\n",
        "        learning_rate   = 0.05,\n",
        "        max_depth       = 6,\n",
        "        subsample       = 0.8,\n",
        "        colsample_bytree= 0.8,\n",
        "        tree_method     = 'hist',\n",
        "        n_jobs          = -1,\n",
        "        random_state    = 42,\n",
        ")\n",
        "\n",
        "early_stop = callback.EarlyStopping(rounds=60, save_best=True, metric_name='mlogloss')\n",
        "\n",
        "xgb.fit(\n",
        "    X_tr, y_tr,\n",
        "    sample_weight            = w_tr,\n",
        "    eval_set                 = [(X_va, y_va)],\n",
        "    sample_weight_eval_set   = [w_va],\n",
        "    # callbacks                = [early_stop],\n",
        "    verbose                  = 200\n",
        ")\n",
        "\n",
        "test_acc = xgb.score(X_test_bow, y_test)\n",
        "print(f\"XGBoost BoW test accuracy: {test_acc:.3f}\")"
      ],
      "metadata": {
        "colab": {
          "base_uri": "https://localhost:8080/"
        },
        "id": "IXr1H1cUJHKE",
        "outputId": "263e8fd7-a40e-4db5-f0a0-bb5f8672a126"
      },
      "execution_count": 21,
      "outputs": [
        {
          "output_type": "stream",
          "name": "stdout",
          "text": [
            "[0]\tvalidation_0-mlogloss:4.60384\n",
            "[200]\tvalidation_0-mlogloss:0.18311\n",
            "[400]\tvalidation_0-mlogloss:0.16290\n",
            "[499]\tvalidation_0-mlogloss:0.16215\n",
            "XGBoost BoW test accuracy: 0.016\n"
          ]
        }
      ]
    }
  ]
}